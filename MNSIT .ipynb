{
 "cells": [
  {
   "cell_type": "markdown",
   "id": "f714b14f",
   "metadata": {},
   "source": [
    "# Importing Dataset"
   ]
  },
  {
   "cell_type": "code",
   "execution_count": 92,
   "id": "109eee43",
   "metadata": {},
   "outputs": [
    {
     "data": {
      "text/plain": [
       "('mnist.npz', <http.client.HTTPMessage at 0x27d8a744fa0>)"
      ]
     },
     "execution_count": 92,
     "metadata": {},
     "output_type": "execute_result"
    }
   ],
   "source": [
    "import urllib.request\n",
    "\n",
    "url = 'https://storage.googleapis.com/tensorflow/tf-keras-datasets/mnist.npz'\n",
    "filename = 'mnist.npz'\n",
    "urllib.request.urlretrieve(url, filename)"
   ]
  },
  {
   "cell_type": "markdown",
   "id": "3303fa90",
   "metadata": {},
   "source": [
    "# NN Class"
   ]
  },
  {
   "cell_type": "code",
   "execution_count": 93,
   "id": "8005d129",
   "metadata": {},
   "outputs": [],
   "source": [
    "class NeuroNetwork():\n",
    "    def __init__ (self):\n",
    "        \n",
    "        #Three AFFINE layers\n",
    "        self.w1 = np.random.randn(input_size, hidden_size)\n",
    "        self.b1 = np.zeros(hidden_size)\n",
    "        self.w2 = np.random.randn(hidden_size, hidden_size)\n",
    "        self.b2 = np.zeros(hidden_size)\n",
    "        self.w3 = np.random.randn(hidden_size, hidden_size)\n",
    "        self.b3 = np.zeros(hidden_size)\n",
    "        self.w4 = np.random.randn(hidden_size, num_classes)\n",
    "        self.b4 = np.zeros(num_classes)\n",
    "    \n",
    "    # Define the activation functions\n",
    "    def softmax(self, x):\n",
    "        exp = np.exp(x - np.max(x, axis=1, keepdims=True))\n",
    "        return exp / np.sum(exp, axis=1, keepdims=True)\n",
    "    \n",
    "    def ReLU(self, X):\n",
    "        return np.maximum(0, X)\n",
    "    \n",
    "    # Define the forward function\n",
    "    def forward(self, x):\n",
    "        z1 = np.dot(x, self.w1) + self.b1 \n",
    "        a1 = self.ReLU(z1)\n",
    "        z2 = np.dot(a1, self.w2) + self.b2\n",
    "        a2 = self.ReLU(z2)\n",
    "        z3 = np.dot(a2, self.w3) + self.b3\n",
    "        a3 = self.ReLU(z3)\n",
    "        z4 = np.dot(a3, self.w4) + self.b4\n",
    "        return self.softmax(z4)\n",
    "\n",
    "    # Define the backward function\n",
    "    def backward(self, x, y, y_pred):\n",
    "        y= y.reshape(len(y),-1)\n",
    "        \n",
    "        #extracting derivatives\n",
    "        delta5 = y_pred - y\n",
    "        delta4 = np.dot(delta5, self.w4.T) * (np.maximum(0, np.dot(x, self.w1) + self.b1) > 0) #for RELU derivative\n",
    "        \n",
    "        delta3 = np.dot(delta4, self.w3.T) * (np.maximum(0, np.dot(x, self.w1) + self.b1) > 0)\n",
    "        \n",
    "        delta2 = np.dot(delta3, self.w2.T) * (np.maximum(0, np.dot(x, self.w1) + self.b1) > 0)\n",
    "        \n",
    "        dw4 = np.dot(delta5.T, np.maximum(0, np.dot(a3, self.w4) + self.b4))\n",
    "        \n",
    "        db4 = np.sum(delta5, axis=0)\n",
    "        \n",
    "        dw3 = np.dot(delta4.T, np.maximum(0, np.dot(a2, self.w3) + self.b3))\n",
    "        \n",
    "        db3 = np.sum(delta4, axis=0)\n",
    "        \n",
    "        dw2 = np.dot(delta3.T, np.maximum(0, np.dot(a1, self.w2) + self.b2))\n",
    "        \n",
    "        db2 = np.sum(delta3, axis=0)\n",
    "        \n",
    "        dw1 = np.dot(x.T, delta2)\n",
    "        \n",
    "        db1 = np.sum(delta2, axis=0)\n",
    "        \n",
    "        return dw1, db1, dw2, db2, dw3, db3, dw4, db4\n",
    "\n",
    "    def train(self,x_train,y_train, learning_rate= 0.1,num_epochs=10,batch_size=128): #Xtain andd Ytrain\n",
    "        input_size = x_train.shape[1]\n",
    "        hidden_size = 128\n",
    "        num_classes = len(np.unique(y_train)) #classes (output layer neurons)\n",
    "        \n",
    "        # Train the model\n",
    "        w1 = np.random.randn(input_size, hidden_size)\n",
    "        b1 = np.zeros(hidden_size)\n",
    "        w2 = np.random.randn(hidden_size, num_classes)\n",
    "        b2 = np.zeros(num_classes)\n",
    "\n",
    "        for epoch in range(num_epochs):\n",
    "            for i in range(0, x_train.shape[0], batch_size):\n",
    "                x_batch = x_train[i:i+batch_size]\n",
    "                y_batch = y_train[i:i+batch_size]\n",
    "\n",
    "                y_pred = forward(x_batch, w1, b1, w2, b2)\n",
    "                dw1, db1, dw2, db2 = backward(x_batch, y_batch, y_pred, w1, b1, w2, b2)\n",
    "\n",
    "                w1 -= learning_rate * dw1\n",
    "                b1 -= learning_rate * db1\n",
    "                w2 -= learning_rate * dw2.T\n",
    "                b2 -= learning_rate * db2\n",
    "\n",
    "            y_pred_val = forward(x_val, w1, b1, w2, b2)\n",
    "            val_acc = accuracy_score(y_val, np.argmax(y_pred_val, axis=1))\n",
    "            print('Epoch [{}/{}], Validation Accuracy: {:.4f}'.format(epoch+1, num_epochs, val_acc))\n",
    "\n",
    "    def test(self):\n",
    "        y_pred_test = forward(x_test, w1, b1, w2, b2)\n",
    "        test_acc = accuracy_score(y_test, np.argmax(y_pred_test, axis=1))\n",
    "        print('Test Accuracy: {:.4f}'.format(test_acc))\n",
    "\n",
    "        #PLOTTING using subplots\n",
    "        fig, axs = plt.subplots(3, 3, figsize=(8, 8))\n",
    "        for i, ax in enumerate(axs.flatten()):\n",
    "            print(\"lables: \",y_test[i])\n",
    "            ax.imshow(x_test[i].reshape(28, 28), cmap='gray')\n",
    "            #ax.axis('off')\n",
    "            ax.set_title('True: {}, Pred: {}'.format(y_test[i], np.argmax(y_pred_test[i])))\n",
    "        plt.show()"
   ]
  },
  {
   "cell_type": "markdown",
   "id": "178c8940",
   "metadata": {},
   "source": [
    "# Test Train Split"
   ]
  },
  {
   "cell_type": "code",
   "execution_count": 94,
   "id": "7a643070",
   "metadata": {},
   "outputs": [],
   "source": [
    "Data = np.load('mnist.npz')\n",
    "x_train = Data['x_train']\n",
    "y_train = Data['y_train']\n",
    "x_test = Data['x_test']\n",
    "y_test = Data['y_test']\n",
    "\n",
    "# Reshaping\n",
    "x_train = x_train.reshape(x_train.shape[0], -1) / 255.\n",
    "x_test = x_test.reshape(x_test.shape[0], -1) / 255.\n",
    "\n",
    "# SPLITTING DATA \n",
    "x_train, x_val, y_train, y_val = train_test_split(x_train, y_train, test_size=0.2, random_state=42)"
   ]
  },
  {
   "cell_type": "markdown",
   "id": "cb3814fc",
   "metadata": {},
   "source": [
    "# Training Model"
   ]
  },
  {
   "cell_type": "code",
   "execution_count": 95,
   "id": "e9ba2ba5",
   "metadata": {},
   "outputs": [],
   "source": [
    "nn = NeuroNetwork()"
   ]
  },
  {
   "cell_type": "code",
   "execution_count": 96,
   "id": "d68bfa51",
   "metadata": {},
   "outputs": [
    {
     "name": "stderr",
     "output_type": "stream",
     "text": [
      "C:\\Users\\A1D\\AppData\\Local\\Temp/ipykernel_13544/1168420106.py:30: RuntimeWarning: invalid value encountered in subtract\n",
      "  exp = np.exp(x - np.max(x, axis=1, keepdims=True))\n"
     ]
    },
    {
     "name": "stdout",
     "output_type": "stream",
     "text": [
      "Epoch [1/10], Validation Accuracy: 0.0979\n",
      "Epoch [2/10], Validation Accuracy: 0.0979\n",
      "Epoch [3/10], Validation Accuracy: 0.0979\n",
      "Epoch [4/10], Validation Accuracy: 0.0979\n",
      "Epoch [5/10], Validation Accuracy: 0.0979\n",
      "Epoch [6/10], Validation Accuracy: 0.0979\n",
      "Epoch [7/10], Validation Accuracy: 0.0979\n",
      "Epoch [8/10], Validation Accuracy: 0.0979\n",
      "Epoch [9/10], Validation Accuracy: 0.0979\n",
      "Epoch [10/10], Validation Accuracy: 0.0979\n"
     ]
    }
   ],
   "source": [
    "nn.train(x_train,y_train)"
   ]
  },
  {
   "cell_type": "markdown",
   "id": "4ed377eb",
   "metadata": {},
   "source": [
    "# Testing"
   ]
  },
  {
   "cell_type": "code",
   "execution_count": 97,
   "id": "e1e5ab12",
   "metadata": {},
   "outputs": [
    {
     "name": "stdout",
     "output_type": "stream",
     "text": [
      "Test Accuracy: 0.0980\n",
      "lables:  7\n",
      "lables:  2\n",
      "lables:  1\n",
      "lables:  0\n",
      "lables:  4\n",
      "lables:  1\n",
      "lables:  4\n",
      "lables:  9\n",
      "lables:  5\n"
     ]
    },
    {
     "data": {
      "image/png": "[encoded data removed]",
      "text/plain": [
       "<Figure size 576x576 with 9 Axes>"
      ]
     },
     "metadata": {
      "needs_background": "light"
     },
     "output_type": "display_data"
    }
   ],
   "source": [
    "nn.test()"
   ]
  },
  {
   "cell_type": "code",
   "execution_count": null,
   "id": "a739dab4",
   "metadata": {},
   "outputs": [],
   "source": []
  },
  {
   "cell_type": "markdown",
   "id": "a023a799",
   "metadata": {},
   "source": [
    "# Rough work\n"
   ]
  },
  {
   "cell_type": "code",
   "execution_count": 98,
   "id": "a6faea0d",
   "metadata": {},
   "outputs": [],
   "source": [
    "import torchvision.datasets as datasets\n",
    "mnist_trainset = datasets.MNIST(root='./data', train=True, download=True)\n",
    "mnist_testset = datasets.MNIST(root='./data', train=False, download=True)"
   ]
  },
  {
   "cell_type": "code",
   "execution_count": 99,
   "id": "5dc6ab48",
   "metadata": {},
   "outputs": [],
   "source": [
    "im = mnist_trainset.data[0:3] / 255\n",
    "label = mnist_trainset.targets[:3].reshape(-1,1).numpy()\n",
    "im = im.numpy()"
   ]
  },
  {
   "cell_type": "code",
   "execution_count": 100,
   "id": "a8dff42e",
   "metadata": {},
   "outputs": [
    {
     "data": {
      "text/plain": [
       "(3, 28, 28)"
      ]
     },
     "execution_count": 100,
     "metadata": {},
     "output_type": "execute_result"
    }
   ],
   "source": [
    "im.shape"
   ]
  },
  {
   "cell_type": "code",
   "execution_count": 101,
   "id": "797b2ddf",
   "metadata": {},
   "outputs": [],
   "source": [
    "inp = im.flatten().reshape(-1,784)"
   ]
  },
  {
   "cell_type": "code",
   "execution_count": 102,
   "id": "7bfa0314",
   "metadata": {},
   "outputs": [],
   "source": [
    "weight = np.random.randn(784, 10)"
   ]
  },
  {
   "cell_type": "code",
   "execution_count": 103,
   "id": "b74f8a70",
   "metadata": {},
   "outputs": [],
   "source": [
    "output = inp @ weight"
   ]
  },
  {
   "cell_type": "code",
   "execution_count": 104,
   "id": "e3ff98be",
   "metadata": {},
   "outputs": [
    {
     "data": {
      "text/plain": [
       "(3, 10)"
      ]
     },
     "execution_count": 104,
     "metadata": {},
     "output_type": "execute_result"
    }
   ],
   "source": [
    "output.shape"
   ]
  },
  {
   "cell_type": "code",
   "execution_count": 105,
   "id": "2e97ca9d",
   "metadata": {},
   "outputs": [],
   "source": [
    "def oh(l, classes=10):\n",
    "    a = np.zeros((l.shape[0], 10))\n",
    "    for i,la in enumerate(l):\n",
    "        a[i][la] = 1\n",
    "    return a"
   ]
  },
  {
   "cell_type": "code",
   "execution_count": 106,
   "id": "28b1e37d",
   "metadata": {},
   "outputs": [
    {
     "data": {
      "text/plain": [
       "array([[0., 0., 0., 0., 0., 1., 0., 0., 0., 0.],\n",
       "       [1., 0., 0., 0., 0., 0., 0., 0., 0., 0.],\n",
       "       [0., 0., 0., 0., 1., 0., 0., 0., 0., 0.]])"
      ]
     },
     "execution_count": 106,
     "metadata": {},
     "output_type": "execute_result"
    }
   ],
   "source": [
    "oh(label)"
   ]
  },
  {
   "cell_type": "code",
   "execution_count": 107,
   "id": "3b6dad29",
   "metadata": {},
   "outputs": [],
   "source": [
    "loss = ((output - oh(label))**2).sum()"
   ]
  },
  {
   "cell_type": "code",
   "execution_count": 108,
   "id": "9878cd93",
   "metadata": {},
   "outputs": [],
   "source": [
    "weight = np.random.randn(784, 10)\n",
    "lr = 1e-4\n",
    "steps = 10000\n",
    "losses=[]"
   ]
  },
  {
   "cell_type": "code",
   "execution_count": 109,
   "id": "e66ea3a6",
   "metadata": {},
   "outputs": [],
   "source": [
    "for i in range(100):\n",
    "    output = inp @ weight\n",
    "    \n",
    "    loss = ((output - oh(label))**2).sum()\n",
    "    doutput = 2 * output#loss ka backward\n",
    "    dweight = inp.T @ doutput\n",
    "    weight -= dweight * lr\n",
    "    losses.append(loss)"
   ]
  },
  {
   "cell_type": "code",
   "execution_count": 110,
   "id": "18197566",
   "metadata": {},
   "outputs": [
    {
     "data": {
      "text/plain": [
       "[<matplotlib.lines.Line2D at 0x27d8acb2fa0>]"
      ]
     },
     "execution_count": 110,
     "metadata": {},
     "output_type": "execute_result"
    },
    {
     "data": {
      "image/png": "[encoded data removed]",
      "text/plain": [
       "<Figure size 432x288 with 1 Axes>"
      ]
     },
     "metadata": {
      "needs_background": "light"
     },
     "output_type": "display_data"
    }
   ],
   "source": [
    "plt.plot(losses)"
   ]
  },
  {
   "cell_type": "code",
   "execution_count": null,
   "id": "632a295e",
   "metadata": {},
   "outputs": [],
   "source": []
  }
 ],
 "metadata": {
  "kernelspec": {
   "display_name": "Python 3 (ipykernel)",
   "language": "python",
   "name": "python3"
  },
  "language_info": {
   "codemirror_mode": {
    "name": "ipython",
    "version": 3
   },
   "file_extension": ".py",
   "mimetype": "text/x-python",
   "name": "python",
   "nbconvert_exporter": "python",
   "pygments_lexer": "ipython3",
   "version": "3.9.7"
  }
 },
 "nbformat": 4,
 "nbformat_minor": 5
}
